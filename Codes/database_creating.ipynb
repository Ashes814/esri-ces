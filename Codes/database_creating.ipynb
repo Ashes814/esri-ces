{
 "cells": [
  {
   "cell_type": "markdown",
   "metadata": {},
   "source": [
    "# 本文档用于转换矢量数据投影,形成矢量数据数据库"
   ]
  },
  {
   "cell_type": "markdown",
   "metadata": {},
   "source": [
    "数据准备\n",
    "1. 统一CRS:`EPSG:32651`\n",
    "2. 矢量数据\n",
    "  1. 上海主城区面要素(`sh_main.shp`)\n",
    "  2. 上海主城区乡镇面要素(`sh_main_town.shp`)\n",
    "\n",
    "处理流程\n",
    "1. 市中心面转换成5m乘5m格网\n",
    "2. 市中心格网转换成点\n",
    "3. 计算每个网格的供给与需求\n",
    "   1. 供给的区域是所有包含蓝绿空间的网格\n",
    "      1. 计算每个网格包含的蓝绿空间面积比重\n",
    "         1. \n",
    "      2. 计算每个网格中ndvi的均值\n",
    "      3. 计算每个网格中蓝绿空间的类型(如果出现一个网格中存在不同的蓝绿空间类型,则取面积最大的那个)\n",
    "   2. 需求的区域是所有包含居民区building的网格\n",
    "      1. 计算每个网格中的人口数量\n",
    "      2. 计算每个网格中的外来人口数量\n",
    "      3. 计算每个网格中的男性人口数量\n",
    "      4. 计算每个网格中的女性人口数量\n",
    "      5. 计算每个网格中三个年龄阶段的人口数量\n",
    "      6. 计算每个网格中少数民族的数量\n",
    "      7. 计算每个网格中的房价均值\n",
    "      8. 以每个网格点为中心,绘制15分钟步行缓冲区\n",
    "      9. 统计15分钟步行缓冲区内的供给总量\n",
    "      10. 以该总量作为该网格点收到的供给总量\n",
    "4. 计算供需匹配"
   ]
  },
  {
   "cell_type": "code",
   "execution_count": 1,
   "metadata": {},
   "outputs": [
    {
     "name": "stderr",
     "output_type": "stream",
     "text": [
      "Logged warning: Duplicate provider native registered\n"
     ]
    }
   ],
   "source": [
    "# 初始化依赖包与qgis\n",
    "import os\n",
    "import numpy as np\n",
    "import pandas as pd\n",
    "\n",
    "\n",
    "import geopandas as gpd\n",
    "import matplotlib.pyplot as plt\n",
    "\n",
    "# import pyqgis\n",
    "from qgis.core import *\n",
    "\n",
    "# Supply path to qgis install location\n",
    "QgsApplication.setPrefixPath('/Applications/QGIS-LTR.app/Contents/MacOS', True)\n",
    "\n",
    "# Create a reference to the QgsApplication.  Setting the\n",
    "# second argument to False disables the GUI.\n",
    "qgs = QgsApplication([], False)\n",
    "\n",
    "# Load providers\n",
    "qgs.initQgis()\n",
    "\n",
    "# Write your code here to load some layers, use processing\n",
    "# algorithms, etc.\n",
    "\n",
    "# Finally, exitQgis() is called to remove the\n",
    "# provider and layer registries from memory\n",
    "\n",
    "\n",
    "from qgis.analysis import QgsNativeAlgorithms\n",
    "import processing\n",
    "from processing.core.Processing import Processing\n",
    "Processing.initialize()\n",
    "QgsApplication.processingRegistry().addProvider(QgsNativeAlgorithms())\n",
    "qgs.exitQgis()"
   ]
  },
  {
   "cell_type": "code",
   "execution_count": 2,
   "metadata": {},
   "outputs": [],
   "source": [
    "def getAttributeTable(vlayer):\n",
    "    \"\"\" get attribute table of a vector layer.\n",
    "    \n",
    "    Args:\n",
    "        vlayer : (QgsVectorLayer instance). vector layer\n",
    "\n",
    "    returns:\n",
    "         pandas DataFrame: attribute table\n",
    "    \"\"\"\n",
    "    attribute_dict={}\n",
    "    \n",
    "    for field in vlayer.fields(): # 初始化各要素属性为空列表\n",
    "        attribute_dict[field.name()] = []\n",
    "        \n",
    "    for feature in vlayer.getFeatures(): # 遍历矢量图层中个要素\n",
    "        for field in vlayer.fields(): # 遍历各属性字段\n",
    "            attribute_dict[field.name()].append(feature[field.name()]) # 添加属性字段值进入字典\n",
    "            \n",
    "            \n",
    "    return pd.DataFrame(attribute_dict) #返回DataFrame"
   ]
  },
  {
   "cell_type": "code",
   "execution_count": 13,
   "metadata": {},
   "outputs": [],
   "source": [
    "input_path = '/Users/oo/Desktop/Projects/esri-ces-contest/Codes/input/sh_main'\n",
    "# pd.set_option('display.max_columns', None)\n",
    "sh_main_green = QgsVectorLayer(r'{}/sh_main_green_fixed.shp'.format(input_path))\n",
    "sh_main_ndvi_raster = QgsRasterLayer(r'{}/sh_main_ndvi.tif'.format(input_path))\n"
   ]
  },
  {
   "cell_type": "code",
   "execution_count": 14,
   "metadata": {},
   "outputs": [
    {
     "data": {
      "text/plain": [
       "{'OUTPUT': '/Users/oo/Desktop/Projects/esri-ces-contest/Codes/temp/rsh_main_green_ndvi.tif'}"
      ]
     },
     "execution_count": 14,
     "metadata": {},
     "output_type": "execute_result"
    }
   ],
   "source": [
    "temp_path = '/Users/oo/Desktop/Projects/esri-ces-contest/Codes/temp'\n",
    "clip_ndvi = {'INPUT':sh_main_ndvi_raster, \n",
    "                      'MASK':sh_main_green, \n",
    "                      'OUTPUT': '{}/rsh_main_green_ndvi.tif'.format(temp_path)}\n",
    "\n",
    "processing.run('gdal:cliprasterbymasklayer', clip_ndvi)"
   ]
  },
  {
   "cell_type": "code",
   "execution_count": null,
   "metadata": {},
   "outputs": [],
   "source": []
  }
 ],
 "metadata": {
  "interpreter": {
   "hash": "37249c13092d332c9d270bc79fa720b7489dd297c7677459c882001dd34ef10b"
  },
  "kernelspec": {
   "display_name": "Python 3.7.11 ('QGIS')",
   "language": "python",
   "name": "python3"
  },
  "language_info": {
   "codemirror_mode": {
    "name": "ipython",
    "version": 3
   },
   "file_extension": ".py",
   "mimetype": "text/x-python",
   "name": "python",
   "nbconvert_exporter": "python",
   "pygments_lexer": "ipython3",
   "version": "3.7.11"
  },
  "orig_nbformat": 4
 },
 "nbformat": 4,
 "nbformat_minor": 2
}
